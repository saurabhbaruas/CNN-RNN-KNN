{
 "cells": [
  {
   "cell_type": "markdown",
   "metadata": {},
   "source": [
    "# Importing Libraries"
   ]
  },
  {
   "cell_type": "code",
   "execution_count": 41,
   "metadata": {
    "collapsed": true
   },
   "outputs": [],
   "source": [
    "import numpy as np\n",
    "import matplotlib.pyplot as plt\n",
    "import pandas as pd"
   ]
  },
  {
   "cell_type": "code",
   "execution_count": 77,
   "metadata": {
    "collapsed": true
   },
   "outputs": [],
   "source": [
    "%matplotlib inline"
   ]
  },
  {
   "cell_type": "markdown",
   "metadata": {},
   "source": [
    "# Importing dataset"
   ]
  },
  {
   "cell_type": "code",
   "execution_count": 42,
   "metadata": {},
   "outputs": [
    {
     "data": {
      "text/html": [
       "<div>\n",
       "<style scoped>\n",
       "    .dataframe tbody tr th:only-of-type {\n",
       "        vertical-align: middle;\n",
       "    }\n",
       "\n",
       "    .dataframe tbody tr th {\n",
       "        vertical-align: top;\n",
       "    }\n",
       "\n",
       "    .dataframe thead th {\n",
       "        text-align: right;\n",
       "    }\n",
       "</style>\n",
       "<table border=\"1\" class=\"dataframe\">\n",
       "  <thead>\n",
       "    <tr style=\"text-align: right;\">\n",
       "      <th></th>\n",
       "      <th>RowNumber</th>\n",
       "      <th>CustomerId</th>\n",
       "      <th>Surname</th>\n",
       "      <th>CreditScore</th>\n",
       "      <th>Geography</th>\n",
       "      <th>Gender</th>\n",
       "      <th>Age</th>\n",
       "      <th>Tenure</th>\n",
       "      <th>Balance</th>\n",
       "      <th>NumOfProducts</th>\n",
       "      <th>HasCrCard</th>\n",
       "      <th>IsActiveMember</th>\n",
       "      <th>EstimatedSalary</th>\n",
       "      <th>Exited</th>\n",
       "    </tr>\n",
       "  </thead>\n",
       "  <tbody>\n",
       "    <tr>\n",
       "      <th>0</th>\n",
       "      <td>1</td>\n",
       "      <td>15634602</td>\n",
       "      <td>Hargrave</td>\n",
       "      <td>619</td>\n",
       "      <td>France</td>\n",
       "      <td>Female</td>\n",
       "      <td>42</td>\n",
       "      <td>2</td>\n",
       "      <td>0.00</td>\n",
       "      <td>1</td>\n",
       "      <td>1</td>\n",
       "      <td>1</td>\n",
       "      <td>101348.88</td>\n",
       "      <td>1</td>\n",
       "    </tr>\n",
       "    <tr>\n",
       "      <th>1</th>\n",
       "      <td>2</td>\n",
       "      <td>15647311</td>\n",
       "      <td>Hill</td>\n",
       "      <td>608</td>\n",
       "      <td>Spain</td>\n",
       "      <td>Female</td>\n",
       "      <td>41</td>\n",
       "      <td>1</td>\n",
       "      <td>83807.86</td>\n",
       "      <td>1</td>\n",
       "      <td>0</td>\n",
       "      <td>1</td>\n",
       "      <td>112542.58</td>\n",
       "      <td>0</td>\n",
       "    </tr>\n",
       "    <tr>\n",
       "      <th>2</th>\n",
       "      <td>3</td>\n",
       "      <td>15619304</td>\n",
       "      <td>Onio</td>\n",
       "      <td>502</td>\n",
       "      <td>France</td>\n",
       "      <td>Female</td>\n",
       "      <td>42</td>\n",
       "      <td>8</td>\n",
       "      <td>159660.80</td>\n",
       "      <td>3</td>\n",
       "      <td>1</td>\n",
       "      <td>0</td>\n",
       "      <td>113931.57</td>\n",
       "      <td>1</td>\n",
       "    </tr>\n",
       "    <tr>\n",
       "      <th>3</th>\n",
       "      <td>4</td>\n",
       "      <td>15701354</td>\n",
       "      <td>Boni</td>\n",
       "      <td>699</td>\n",
       "      <td>France</td>\n",
       "      <td>Female</td>\n",
       "      <td>39</td>\n",
       "      <td>1</td>\n",
       "      <td>0.00</td>\n",
       "      <td>2</td>\n",
       "      <td>0</td>\n",
       "      <td>0</td>\n",
       "      <td>93826.63</td>\n",
       "      <td>0</td>\n",
       "    </tr>\n",
       "    <tr>\n",
       "      <th>4</th>\n",
       "      <td>5</td>\n",
       "      <td>15737888</td>\n",
       "      <td>Mitchell</td>\n",
       "      <td>850</td>\n",
       "      <td>Spain</td>\n",
       "      <td>Female</td>\n",
       "      <td>43</td>\n",
       "      <td>2</td>\n",
       "      <td>125510.82</td>\n",
       "      <td>1</td>\n",
       "      <td>1</td>\n",
       "      <td>1</td>\n",
       "      <td>79084.10</td>\n",
       "      <td>0</td>\n",
       "    </tr>\n",
       "    <tr>\n",
       "      <th>...</th>\n",
       "      <td>...</td>\n",
       "      <td>...</td>\n",
       "      <td>...</td>\n",
       "      <td>...</td>\n",
       "      <td>...</td>\n",
       "      <td>...</td>\n",
       "      <td>...</td>\n",
       "      <td>...</td>\n",
       "      <td>...</td>\n",
       "      <td>...</td>\n",
       "      <td>...</td>\n",
       "      <td>...</td>\n",
       "      <td>...</td>\n",
       "      <td>...</td>\n",
       "    </tr>\n",
       "    <tr>\n",
       "      <th>9995</th>\n",
       "      <td>9996</td>\n",
       "      <td>15606229</td>\n",
       "      <td>Obijiaku</td>\n",
       "      <td>771</td>\n",
       "      <td>France</td>\n",
       "      <td>Male</td>\n",
       "      <td>39</td>\n",
       "      <td>5</td>\n",
       "      <td>0.00</td>\n",
       "      <td>2</td>\n",
       "      <td>1</td>\n",
       "      <td>0</td>\n",
       "      <td>96270.64</td>\n",
       "      <td>0</td>\n",
       "    </tr>\n",
       "    <tr>\n",
       "      <th>9996</th>\n",
       "      <td>9997</td>\n",
       "      <td>15569892</td>\n",
       "      <td>Johnstone</td>\n",
       "      <td>516</td>\n",
       "      <td>France</td>\n",
       "      <td>Male</td>\n",
       "      <td>35</td>\n",
       "      <td>10</td>\n",
       "      <td>57369.61</td>\n",
       "      <td>1</td>\n",
       "      <td>1</td>\n",
       "      <td>1</td>\n",
       "      <td>101699.77</td>\n",
       "      <td>0</td>\n",
       "    </tr>\n",
       "    <tr>\n",
       "      <th>9997</th>\n",
       "      <td>9998</td>\n",
       "      <td>15584532</td>\n",
       "      <td>Liu</td>\n",
       "      <td>709</td>\n",
       "      <td>France</td>\n",
       "      <td>Female</td>\n",
       "      <td>36</td>\n",
       "      <td>7</td>\n",
       "      <td>0.00</td>\n",
       "      <td>1</td>\n",
       "      <td>0</td>\n",
       "      <td>1</td>\n",
       "      <td>42085.58</td>\n",
       "      <td>1</td>\n",
       "    </tr>\n",
       "    <tr>\n",
       "      <th>9998</th>\n",
       "      <td>9999</td>\n",
       "      <td>15682355</td>\n",
       "      <td>Sabbatini</td>\n",
       "      <td>772</td>\n",
       "      <td>Germany</td>\n",
       "      <td>Male</td>\n",
       "      <td>42</td>\n",
       "      <td>3</td>\n",
       "      <td>75075.31</td>\n",
       "      <td>2</td>\n",
       "      <td>1</td>\n",
       "      <td>0</td>\n",
       "      <td>92888.52</td>\n",
       "      <td>1</td>\n",
       "    </tr>\n",
       "    <tr>\n",
       "      <th>9999</th>\n",
       "      <td>10000</td>\n",
       "      <td>15628319</td>\n",
       "      <td>Walker</td>\n",
       "      <td>792</td>\n",
       "      <td>France</td>\n",
       "      <td>Female</td>\n",
       "      <td>28</td>\n",
       "      <td>4</td>\n",
       "      <td>130142.79</td>\n",
       "      <td>1</td>\n",
       "      <td>1</td>\n",
       "      <td>0</td>\n",
       "      <td>38190.78</td>\n",
       "      <td>0</td>\n",
       "    </tr>\n",
       "  </tbody>\n",
       "</table>\n",
       "<p>10000 rows × 14 columns</p>\n",
       "</div>"
      ],
      "text/plain": [
       "      RowNumber  CustomerId    Surname  CreditScore Geography  Gender  Age  \\\n",
       "0             1    15634602   Hargrave          619    France  Female   42   \n",
       "1             2    15647311       Hill          608     Spain  Female   41   \n",
       "2             3    15619304       Onio          502    France  Female   42   \n",
       "3             4    15701354       Boni          699    France  Female   39   \n",
       "4             5    15737888   Mitchell          850     Spain  Female   43   \n",
       "...         ...         ...        ...          ...       ...     ...  ...   \n",
       "9995       9996    15606229   Obijiaku          771    France    Male   39   \n",
       "9996       9997    15569892  Johnstone          516    France    Male   35   \n",
       "9997       9998    15584532        Liu          709    France  Female   36   \n",
       "9998       9999    15682355  Sabbatini          772   Germany    Male   42   \n",
       "9999      10000    15628319     Walker          792    France  Female   28   \n",
       "\n",
       "      Tenure    Balance  NumOfProducts  HasCrCard  IsActiveMember  \\\n",
       "0          2       0.00              1          1               1   \n",
       "1          1   83807.86              1          0               1   \n",
       "2          8  159660.80              3          1               0   \n",
       "3          1       0.00              2          0               0   \n",
       "4          2  125510.82              1          1               1   \n",
       "...      ...        ...            ...        ...             ...   \n",
       "9995       5       0.00              2          1               0   \n",
       "9996      10   57369.61              1          1               1   \n",
       "9997       7       0.00              1          0               1   \n",
       "9998       3   75075.31              2          1               0   \n",
       "9999       4  130142.79              1          1               0   \n",
       "\n",
       "      EstimatedSalary  Exited  \n",
       "0           101348.88       1  \n",
       "1           112542.58       0  \n",
       "2           113931.57       1  \n",
       "3            93826.63       0  \n",
       "4            79084.10       0  \n",
       "...               ...     ...  \n",
       "9995         96270.64       0  \n",
       "9996        101699.77       0  \n",
       "9997         42085.58       1  \n",
       "9998         92888.52       1  \n",
       "9999         38190.78       0  \n",
       "\n",
       "[10000 rows x 14 columns]"
      ]
     },
     "execution_count": 42,
     "metadata": {},
     "output_type": "execute_result"
    }
   ],
   "source": [
    "dataset = pd.read_csv('Churn_Modelling.csv')\n",
    "dataset"
   ]
  },
  {
   "cell_type": "code",
   "execution_count": 43,
   "metadata": {},
   "outputs": [
    {
     "data": {
      "text/plain": [
       "14"
      ]
     },
     "execution_count": 43,
     "metadata": {},
     "output_type": "execute_result"
    }
   ],
   "source": [
    "total_cols = len(dataset.columns);\n",
    "total_cols"
   ]
  },
  {
   "cell_type": "code",
   "execution_count": 44,
   "metadata": {},
   "outputs": [
    {
     "data": {
      "text/plain": [
       "array([[619, 'France', 'Female', ..., 1, 1, 101348.88],\n",
       "       [608, 'Spain', 'Female', ..., 0, 1, 112542.58],\n",
       "       [502, 'France', 'Female', ..., 1, 0, 113931.57],\n",
       "       ...,\n",
       "       [709, 'France', 'Female', ..., 0, 1, 42085.58],\n",
       "       [772, 'Germany', 'Male', ..., 1, 0, 92888.52],\n",
       "       [792, 'France', 'Female', ..., 1, 0, 38190.78]], dtype=object)"
      ]
     },
     "execution_count": 44,
     "metadata": {},
     "output_type": "execute_result"
    }
   ],
   "source": [
    "X = dataset.iloc[:, 3:total_cols-1].values\n",
    "X"
   ]
  },
  {
   "cell_type": "code",
   "execution_count": 45,
   "metadata": {},
   "outputs": [
    {
     "data": {
      "text/plain": [
       "array([1, 0, 1, ..., 1, 1, 0], dtype=int64)"
      ]
     },
     "execution_count": 45,
     "metadata": {},
     "output_type": "execute_result"
    }
   ],
   "source": [
    "y = dataset.iloc[:,total_cols-1].values\n",
    "y"
   ]
  },
  {
   "cell_type": "markdown",
   "metadata": {},
   "source": [
    "# Label encoding 'Gender' column"
   ]
  },
  {
   "cell_type": "code",
   "execution_count": 46,
   "metadata": {},
   "outputs": [
    {
     "data": {
      "text/plain": [
       "array([[619, 'France', 0, ..., 1, 1, 101348.88],\n",
       "       [608, 'Spain', 0, ..., 0, 1, 112542.58],\n",
       "       [502, 'France', 0, ..., 1, 0, 113931.57],\n",
       "       ...,\n",
       "       [709, 'France', 0, ..., 0, 1, 42085.58],\n",
       "       [772, 'Germany', 1, ..., 1, 0, 92888.52],\n",
       "       [792, 'France', 0, ..., 1, 0, 38190.78]], dtype=object)"
      ]
     },
     "execution_count": 46,
     "metadata": {},
     "output_type": "execute_result"
    }
   ],
   "source": [
    "from sklearn.preprocessing import LabelEncoder\n",
    "lb = LabelEncoder()\n",
    "X[:, 2] = lb.fit_transform(X[:, 2])\n",
    "X"
   ]
  },
  {
   "cell_type": "markdown",
   "metadata": {},
   "source": [
    "# One hot encoding 'Geography' column"
   ]
  },
  {
   "cell_type": "code",
   "execution_count": 47,
   "metadata": {},
   "outputs": [
    {
     "data": {
      "text/plain": [
       "array([[1.0, 0.0, 0.0, ..., 1, 1, 101348.88],\n",
       "       [0.0, 0.0, 1.0, ..., 0, 1, 112542.58],\n",
       "       [1.0, 0.0, 0.0, ..., 1, 0, 113931.57],\n",
       "       ...,\n",
       "       [1.0, 0.0, 0.0, ..., 0, 1, 42085.58],\n",
       "       [0.0, 1.0, 0.0, ..., 1, 0, 92888.52],\n",
       "       [1.0, 0.0, 0.0, ..., 1, 0, 38190.78]], dtype=object)"
      ]
     },
     "execution_count": 47,
     "metadata": {},
     "output_type": "execute_result"
    }
   ],
   "source": [
    "from sklearn.preprocessing import OneHotEncoder\n",
    "from sklearn.compose import ColumnTransformer\n",
    "ct = ColumnTransformer([(\"Geography\", OneHotEncoder(), [1])], remainder = 'passthrough')\n",
    "X = ct.fit_transform(X)\n",
    "X"
   ]
  },
  {
   "cell_type": "code",
   "execution_count": 48,
   "metadata": {},
   "outputs": [
    {
     "data": {
      "text/plain": [
       "(10000, 12)"
      ]
     },
     "execution_count": 48,
     "metadata": {},
     "output_type": "execute_result"
    }
   ],
   "source": [
    "X.shape"
   ]
  },
  {
   "cell_type": "markdown",
   "metadata": {},
   "source": [
    "# Dividing the data into training and testing"
   ]
  },
  {
   "cell_type": "code",
   "execution_count": 49,
   "metadata": {
    "collapsed": true
   },
   "outputs": [],
   "source": [
    "from sklearn.model_selection import train_test_split"
   ]
  },
  {
   "cell_type": "code",
   "execution_count": 50,
   "metadata": {
    "collapsed": true
   },
   "outputs": [],
   "source": [
    "X_train, X_test, y_train, y_test = train_test_split(X, y, test_size = 0.3, random_state = 0)"
   ]
  },
  {
   "cell_type": "code",
   "execution_count": 51,
   "metadata": {},
   "outputs": [
    {
     "data": {
      "text/plain": [
       "(7000, 12)"
      ]
     },
     "execution_count": 51,
     "metadata": {},
     "output_type": "execute_result"
    }
   ],
   "source": [
    "X_train.shape"
   ]
  },
  {
   "cell_type": "markdown",
   "metadata": {},
   "source": [
    "# Feature Scaling"
   ]
  },
  {
   "cell_type": "code",
   "execution_count": 52,
   "metadata": {
    "collapsed": true
   },
   "outputs": [],
   "source": [
    "from sklearn.preprocessing import StandardScaler\n",
    "sc = StandardScaler()\n",
    "X_train = sc.fit_transform(X_train)\n",
    "X_test = sc.transform(X_test)"
   ]
  },
  {
   "cell_type": "code",
   "execution_count": 53,
   "metadata": {},
   "outputs": [
    {
     "data": {
      "text/plain": [
       "array([[ 0.98497008, -0.56987189, -0.5731713 , ...,  0.64198477,\n",
       "         0.96683535, -0.76862426],\n",
       "       [ 0.98497008, -0.56987189, -0.5731713 , ...,  0.64198477,\n",
       "        -1.03430227, -1.39359887],\n",
       "       [ 0.98497008, -0.56987189, -0.5731713 , ..., -1.55766936,\n",
       "         0.96683535, -1.49739308],\n",
       "       ...,\n",
       "       [ 0.98497008, -0.56987189, -0.5731713 , ...,  0.64198477,\n",
       "        -1.03430227,  1.41400417],\n",
       "       [-1.01525927, -0.56987189,  1.74467913, ...,  0.64198477,\n",
       "         0.96683535,  0.84625811],\n",
       "       [-1.01525927,  1.75478035, -0.5731713 , ...,  0.64198477,\n",
       "        -1.03430227,  0.32689267]])"
      ]
     },
     "execution_count": 53,
     "metadata": {},
     "output_type": "execute_result"
    }
   ],
   "source": [
    "X_train"
   ]
  },
  {
   "cell_type": "markdown",
   "metadata": {},
   "source": [
    "# Building Feed Forward Neural Network"
   ]
  },
  {
   "cell_type": "markdown",
   "metadata": {},
   "source": [
    "# Importing libraries"
   ]
  },
  {
   "cell_type": "code",
   "execution_count": 54,
   "metadata": {
    "collapsed": true
   },
   "outputs": [],
   "source": [
    "import keras\n",
    "from keras.models import Sequential\n",
    "from keras.layers import Dense"
   ]
  },
  {
   "cell_type": "markdown",
   "metadata": {},
   "source": [
    "# creating classifier"
   ]
  },
  {
   "cell_type": "code",
   "execution_count": 55,
   "metadata": {
    "collapsed": true
   },
   "outputs": [],
   "source": [
    "classifier = Sequential()"
   ]
  },
  {
   "cell_type": "markdown",
   "metadata": {},
   "source": [
    "# Adding first hidden layer"
   ]
  },
  {
   "cell_type": "code",
   "execution_count": 56,
   "metadata": {
    "collapsed": true
   },
   "outputs": [],
   "source": [
    "classifier.add(Dense(input_dim = 12, units = 8, kernel_initializer = 'uniform', activation = 'relu'))"
   ]
  },
  {
   "cell_type": "markdown",
   "metadata": {},
   "source": [
    "# Adding second hidden layer"
   ]
  },
  {
   "cell_type": "code",
   "execution_count": 57,
   "metadata": {
    "collapsed": true
   },
   "outputs": [],
   "source": [
    "classifier.add(Dense(units = 8, kernel_initializer = 'uniform', activation = 'relu'))"
   ]
  },
  {
   "cell_type": "markdown",
   "metadata": {},
   "source": [
    "# Adding Output layer"
   ]
  },
  {
   "cell_type": "code",
   "execution_count": 58,
   "metadata": {
    "collapsed": true
   },
   "outputs": [],
   "source": [
    "classifier.add(Dense(units = 1, kernel_initializer = 'uniform', activation = 'sigmoid'))"
   ]
  },
  {
   "cell_type": "markdown",
   "metadata": {},
   "source": [
    "# Compiling classifier"
   ]
  },
  {
   "cell_type": "code",
   "execution_count": 59,
   "metadata": {
    "collapsed": true
   },
   "outputs": [],
   "source": [
    "classifier.compile(optimizer = 'adam', loss = 'binary_crossentropy', metrics = ['accuracy'])"
   ]
  },
  {
   "cell_type": "markdown",
   "metadata": {},
   "source": [
    "# https://arxiv.org/pdf/1412.6980.pdf"
   ]
  },
  {
   "cell_type": "code",
   "execution_count": 60,
   "metadata": {},
   "outputs": [
    {
     "name": "stdout",
     "output_type": "stream",
     "text": [
      "Model: \"sequential_1\"\n",
      "_________________________________________________________________\n",
      "Layer (type)                 Output Shape              Param #   \n",
      "=================================================================\n",
      "dense_3 (Dense)              (None, 8)                 104       \n",
      "_________________________________________________________________\n",
      "dense_4 (Dense)              (None, 8)                 72        \n",
      "_________________________________________________________________\n",
      "dense_5 (Dense)              (None, 1)                 9         \n",
      "=================================================================\n",
      "Total params: 185\n",
      "Trainable params: 185\n",
      "Non-trainable params: 0\n",
      "_________________________________________________________________\n"
     ]
    }
   ],
   "source": [
    "classifier.summary()"
   ]
  },
  {
   "cell_type": "markdown",
   "metadata": {},
   "source": [
    "# Fitting classifier"
   ]
  },
  {
   "cell_type": "code",
   "execution_count": 61,
   "metadata": {},
   "outputs": [
    {
     "name": "stdout",
     "output_type": "stream",
     "text": [
      "Epoch 1/100\n",
      "700/700 [==============================] - 4s 6ms/step - loss: 0.4889 - accuracy: 0.7971\n",
      "Epoch 2/100\n",
      "700/700 [==============================] - 4s 6ms/step - loss: 0.4272 - accuracy: 0.7977\n",
      "Epoch 3/100\n",
      "700/700 [==============================] - 4s 5ms/step - loss: 0.4202 - accuracy: 0.8063\n",
      "Epoch 4/100\n",
      "700/700 [==============================] - 4s 5ms/step - loss: 0.4148 - accuracy: 0.8281\n",
      "Epoch 5/100\n",
      "700/700 [==============================] - 4s 5ms/step - loss: 0.4102 - accuracy: 0.8310\n",
      "Epoch 6/100\n",
      "700/700 [==============================] - 4s 5ms/step - loss: 0.4071 - accuracy: 0.8343\n",
      "Epoch 7/100\n",
      "700/700 [==============================] - 4s 6ms/step - loss: 0.4049 - accuracy: 0.8357\n",
      "Epoch 8/100\n",
      "700/700 [==============================] - 4s 6ms/step - loss: 0.4024 - accuracy: 0.8347\n",
      "Epoch 9/100\n",
      "700/700 [==============================] - 4s 6ms/step - loss: 0.4020 - accuracy: 0.8339\n",
      "Epoch 10/100\n",
      "700/700 [==============================] - 4s 5ms/step - loss: 0.3999 - accuracy: 0.8350\n",
      "Epoch 11/100\n",
      "700/700 [==============================] - 4s 5ms/step - loss: 0.3994 - accuracy: 0.8354\n",
      "Epoch 12/100\n",
      "700/700 [==============================] - 4s 5ms/step - loss: 0.3985 - accuracy: 0.8347\n",
      "Epoch 13/100\n",
      "700/700 [==============================] - 4s 5ms/step - loss: 0.3979 - accuracy: 0.8349\n",
      "Epoch 14/100\n",
      "700/700 [==============================] - 4s 5ms/step - loss: 0.3964 - accuracy: 0.8371\n",
      "Epoch 15/100\n",
      "700/700 [==============================] - 4s 6ms/step - loss: 0.3968 - accuracy: 0.8377\n",
      "Epoch 16/100\n",
      "700/700 [==============================] - 4s 5ms/step - loss: 0.3968 - accuracy: 0.8349\n",
      "Epoch 17/100\n",
      "700/700 [==============================] - 4s 5ms/step - loss: 0.3965 - accuracy: 0.8349\n",
      "Epoch 18/100\n",
      "700/700 [==============================] - 4s 6ms/step - loss: 0.3953 - accuracy: 0.8366\n",
      "Epoch 19/100\n",
      "700/700 [==============================] - 4s 6ms/step - loss: 0.3954 - accuracy: 0.8357\n",
      "Epoch 20/100\n",
      "700/700 [==============================] - 4s 6ms/step - loss: 0.3955 - accuracy: 0.8359\n",
      "Epoch 21/100\n",
      "700/700 [==============================] - 4s 6ms/step - loss: 0.3947 - accuracy: 0.8360\n",
      "Epoch 22/100\n",
      "700/700 [==============================] - 4s 6ms/step - loss: 0.3948 - accuracy: 0.8370\n",
      "Epoch 23/100\n",
      "700/700 [==============================] - 4s 6ms/step - loss: 0.3937 - accuracy: 0.8359\n",
      "Epoch 24/100\n",
      "700/700 [==============================] - 4s 5ms/step - loss: 0.3928 - accuracy: 0.8391\n",
      "Epoch 25/100\n",
      "700/700 [==============================] - 4s 6ms/step - loss: 0.3923 - accuracy: 0.8394: 0s -\n",
      "Epoch 26/100\n",
      "700/700 [==============================] - 4s 5ms/step - loss: 0.3917 - accuracy: 0.8399\n",
      "Epoch 27/100\n",
      "700/700 [==============================] - 4s 5ms/step - loss: 0.3895 - accuracy: 0.8391\n",
      "Epoch 28/100\n",
      "700/700 [==============================] - 4s 6ms/step - loss: 0.3874 - accuracy: 0.8387\n",
      "Epoch 29/100\n",
      "700/700 [==============================] - 4s 5ms/step - loss: 0.3853 - accuracy: 0.8423\n",
      "Epoch 30/100\n",
      "700/700 [==============================] - 4s 5ms/step - loss: 0.3830 - accuracy: 0.8426\n",
      "Epoch 31/100\n",
      "700/700 [==============================] - 4s 5ms/step - loss: 0.3788 - accuracy: 0.8427\n",
      "Epoch 32/100\n",
      "700/700 [==============================] - 4s 5ms/step - loss: 0.3762 - accuracy: 0.8443\n",
      "Epoch 33/100\n",
      "700/700 [==============================] - 4s 5ms/step - loss: 0.3714 - accuracy: 0.8473\n",
      "Epoch 34/100\n",
      "700/700 [==============================] - 4s 5ms/step - loss: 0.3672 - accuracy: 0.8480\n",
      "Epoch 35/100\n",
      "700/700 [==============================] - 4s 6ms/step - loss: 0.3633 - accuracy: 0.8503\n",
      "Epoch 36/100\n",
      "700/700 [==============================] - 4s 5ms/step - loss: 0.3622 - accuracy: 0.8501\n",
      "Epoch 37/100\n",
      "700/700 [==============================] - 4s 5ms/step - loss: 0.3589 - accuracy: 0.8514\n",
      "Epoch 38/100\n",
      "700/700 [==============================] - 4s 5ms/step - loss: 0.3570 - accuracy: 0.8541\n",
      "Epoch 39/100\n",
      "700/700 [==============================] - 4s 6ms/step - loss: 0.3565 - accuracy: 0.8539\n",
      "Epoch 40/100\n",
      "700/700 [==============================] - 4s 5ms/step - loss: 0.3555 - accuracy: 0.8531\n",
      "Epoch 41/100\n",
      "700/700 [==============================] - 4s 5ms/step - loss: 0.3531 - accuracy: 0.8556\n",
      "Epoch 42/100\n",
      "700/700 [==============================] - 4s 5ms/step - loss: 0.3528 - accuracy: 0.8556\n",
      "Epoch 43/100\n",
      "700/700 [==============================] - 4s 5ms/step - loss: 0.3519 - accuracy: 0.8566\n",
      "Epoch 44/100\n",
      "700/700 [==============================] - 4s 5ms/step - loss: 0.3507 - accuracy: 0.8534\n",
      "Epoch 45/100\n",
      "700/700 [==============================] - 4s 5ms/step - loss: 0.3514 - accuracy: 0.8546\n",
      "Epoch 46/100\n",
      "700/700 [==============================] - 4s 6ms/step - loss: 0.3509 - accuracy: 0.8580\n",
      "Epoch 47/100\n",
      "700/700 [==============================] - 4s 5ms/step - loss: 0.3504 - accuracy: 0.8564\n",
      "Epoch 48/100\n",
      "700/700 [==============================] - 4s 5ms/step - loss: 0.3487 - accuracy: 0.8567\n",
      "Epoch 49/100\n",
      "700/700 [==============================] - 4s 5ms/step - loss: 0.3490 - accuracy: 0.8549\n",
      "Epoch 50/100\n",
      "700/700 [==============================] - 4s 5ms/step - loss: 0.3477 - accuracy: 0.8554\n",
      "Epoch 51/100\n",
      "700/700 [==============================] - 4s 6ms/step - loss: 0.3471 - accuracy: 0.8593\n",
      "Epoch 52/100\n",
      "700/700 [==============================] - 4s 5ms/step - loss: 0.3484 - accuracy: 0.8586\n",
      "Epoch 53/100\n",
      "700/700 [==============================] - 4s 5ms/step - loss: 0.3470 - accuracy: 0.8607\n",
      "Epoch 54/100\n",
      "700/700 [==============================] - 4s 6ms/step - loss: 0.3463 - accuracy: 0.8547\n",
      "Epoch 55/100\n",
      "700/700 [==============================] - 4s 6ms/step - loss: 0.3468 - accuracy: 0.8589\n",
      "Epoch 56/100\n",
      "700/700 [==============================] - 4s 5ms/step - loss: 0.3461 - accuracy: 0.8574\n",
      "Epoch 57/100\n",
      "700/700 [==============================] - 4s 5ms/step - loss: 0.3458 - accuracy: 0.8590\n",
      "Epoch 58/100\n",
      "700/700 [==============================] - 4s 5ms/step - loss: 0.3451 - accuracy: 0.8600\n",
      "Epoch 59/100\n",
      "700/700 [==============================] - 4s 6ms/step - loss: 0.3465 - accuracy: 0.8604\n",
      "Epoch 60/100\n",
      "700/700 [==============================] - 4s 5ms/step - loss: 0.3445 - accuracy: 0.8624\n",
      "Epoch 61/100\n",
      "700/700 [==============================] - 4s 5ms/step - loss: 0.3452 - accuracy: 0.8586\n",
      "Epoch 62/100\n",
      "700/700 [==============================] - 4s 5ms/step - loss: 0.3448 - accuracy: 0.8579\n",
      "Epoch 63/100\n",
      "700/700 [==============================] - 4s 5ms/step - loss: 0.3447 - accuracy: 0.8587\n",
      "Epoch 64/100\n",
      "700/700 [==============================] - 4s 5ms/step - loss: 0.3442 - accuracy: 0.8604\n",
      "Epoch 65/100\n",
      "700/700 [==============================] - 4s 6ms/step - loss: 0.3439 - accuracy: 0.8606\n",
      "Epoch 66/100\n",
      "700/700 [==============================] - 5s 7ms/step - loss: 0.3442 - accuracy: 0.8594\n",
      "Epoch 67/100\n",
      "700/700 [==============================] - 4s 6ms/step - loss: 0.3442 - accuracy: 0.8610\n",
      "Epoch 68/100\n",
      "700/700 [==============================] - 4s 5ms/step - loss: 0.3444 - accuracy: 0.8620\n",
      "Epoch 69/100\n",
      "700/700 [==============================] - 4s 5ms/step - loss: 0.3429 - accuracy: 0.8606\n",
      "Epoch 70/100\n",
      "700/700 [==============================] - 4s 5ms/step - loss: 0.3443 - accuracy: 0.8589\n",
      "Epoch 71/100\n",
      "700/700 [==============================] - 4s 6ms/step - loss: 0.3431 - accuracy: 0.8594\n",
      "Epoch 72/100\n",
      "700/700 [==============================] - 5s 7ms/step - loss: 0.3431 - accuracy: 0.8619\n",
      "Epoch 73/100\n",
      "700/700 [==============================] - 4s 6ms/step - loss: 0.3432 - accuracy: 0.8616\n",
      "Epoch 74/100\n",
      "700/700 [==============================] - 4s 6ms/step - loss: 0.3429 - accuracy: 0.8599\n",
      "Epoch 75/100\n",
      "700/700 [==============================] - 4s 5ms/step - loss: 0.3429 - accuracy: 0.8613\n",
      "Epoch 76/100\n",
      "700/700 [==============================] - 4s 5ms/step - loss: 0.3423 - accuracy: 0.8636\n",
      "Epoch 77/100\n",
      "700/700 [==============================] - 4s 6ms/step - loss: 0.3433 - accuracy: 0.8597\n",
      "Epoch 78/100\n",
      "700/700 [==============================] - 5s 7ms/step - loss: 0.3425 - accuracy: 0.8599\n",
      "Epoch 79/100\n",
      "700/700 [==============================] - 5s 7ms/step - loss: 0.3416 - accuracy: 0.8609\n",
      "Epoch 80/100\n",
      "700/700 [==============================] - 4s 6ms/step - loss: 0.3419 - accuracy: 0.8604\n",
      "Epoch 81/100\n",
      "700/700 [==============================] - 4s 5ms/step - loss: 0.3435 - accuracy: 0.8613\n",
      "Epoch 82/100\n",
      "700/700 [==============================] - 4s 5ms/step - loss: 0.3428 - accuracy: 0.8607\n",
      "Epoch 83/100\n",
      "700/700 [==============================] - 4s 5ms/step - loss: 0.3415 - accuracy: 0.8634\n",
      "Epoch 84/100\n",
      "700/700 [==============================] - 4s 5ms/step - loss: 0.3415 - accuracy: 0.8629\n",
      "Epoch 85/100\n",
      "700/700 [==============================] - 4s 5ms/step - loss: 0.3435 - accuracy: 0.8613\n",
      "Epoch 86/100\n",
      "700/700 [==============================] - 4s 5ms/step - loss: 0.3423 - accuracy: 0.8603\n",
      "Epoch 87/100\n",
      "700/700 [==============================] - 4s 5ms/step - loss: 0.3418 - accuracy: 0.8611\n",
      "Epoch 88/100\n",
      "700/700 [==============================] - 4s 5ms/step - loss: 0.3420 - accuracy: 0.8597\n",
      "Epoch 89/100\n",
      "700/700 [==============================] - 4s 5ms/step - loss: 0.3426 - accuracy: 0.8607\n",
      "Epoch 90/100\n",
      "700/700 [==============================] - 4s 5ms/step - loss: 0.3422 - accuracy: 0.8599\n",
      "Epoch 91/100\n",
      "700/700 [==============================] - 4s 5ms/step - loss: 0.3421 - accuracy: 0.8619\n",
      "Epoch 92/100\n",
      "700/700 [==============================] - 4s 5ms/step - loss: 0.3419 - accuracy: 0.8620\n",
      "Epoch 93/100\n",
      "700/700 [==============================] - 4s 5ms/step - loss: 0.3421 - accuracy: 0.8599\n",
      "Epoch 94/100\n",
      "700/700 [==============================] - 4s 6ms/step - loss: 0.3415 - accuracy: 0.8640\n",
      "Epoch 95/100\n",
      "700/700 [==============================] - 4s 5ms/step - loss: 0.3412 - accuracy: 0.8613\n",
      "Epoch 96/100\n",
      "700/700 [==============================] - 4s 5ms/step - loss: 0.3409 - accuracy: 0.8610\n",
      "Epoch 97/100\n",
      "700/700 [==============================] - 4s 6ms/step - loss: 0.3417 - accuracy: 0.8610\n",
      "Epoch 98/100\n",
      "700/700 [==============================] - 4s 6ms/step - loss: 0.3416 - accuracy: 0.8611\n",
      "Epoch 99/100\n",
      "700/700 [==============================] - 4s 5ms/step - loss: 0.3406 - accuracy: 0.8607\n",
      "Epoch 100/100\n",
      "700/700 [==============================] - 4s 5ms/step - loss: 0.3419 - accuracy: 0.8627\n"
     ]
    }
   ],
   "source": [
    "results = classifier.fit(X_train, y_train, batch_size = 10, epochs = 100)"
   ]
  },
  {
   "cell_type": "code",
   "execution_count": 62,
   "metadata": {},
   "outputs": [
    {
     "data": {
      "text/plain": [
       "[0.7971428632736206,\n",
       " 0.7977142930030823,\n",
       " 0.8062857389450073,\n",
       " 0.8281428813934326,\n",
       " 0.8309999704360962,\n",
       " 0.8342857360839844,\n",
       " 0.8357142806053162,\n",
       " 0.8347142934799194,\n",
       " 0.8338571190834045,\n",
       " 0.8349999785423279,\n",
       " 0.8354285955429077,\n",
       " 0.8347142934799194,\n",
       " 0.834857165813446,\n",
       " 0.8371428847312927,\n",
       " 0.8377143144607544,\n",
       " 0.834857165813446,\n",
       " 0.834857165813446,\n",
       " 0.836571455001831,\n",
       " 0.8357142806053162,\n",
       " 0.8358571529388428,\n",
       " 0.8360000252723694,\n",
       " 0.8370000123977661,\n",
       " 0.8358571529388428,\n",
       " 0.8391428589820862,\n",
       " 0.8394285440444946,\n",
       " 0.8398571610450745,\n",
       " 0.8391428589820862,\n",
       " 0.8387143015861511,\n",
       " 0.842285692691803,\n",
       " 0.8425714373588562,\n",
       " 0.8427143096923828,\n",
       " 0.8442857265472412,\n",
       " 0.8472856879234314,\n",
       " 0.8479999899864197,\n",
       " 0.8502857089042664,\n",
       " 0.8501428365707397,\n",
       " 0.8514285683631897,\n",
       " 0.8541428446769714,\n",
       " 0.853857159614563,\n",
       " 0.8531428575515747,\n",
       " 0.855571448802948,\n",
       " 0.855571448802948,\n",
       " 0.8565714359283447,\n",
       " 0.8534285426139832,\n",
       " 0.8545714020729065,\n",
       " 0.8579999804496765,\n",
       " 0.8564285635948181,\n",
       " 0.8567143082618713,\n",
       " 0.8548571467399597,\n",
       " 0.8554285764694214,\n",
       " 0.8592857122421265,\n",
       " 0.8585714101791382,\n",
       " 0.8607142567634583,\n",
       " 0.8547142744064331,\n",
       " 0.8588571548461914,\n",
       " 0.8574285507202148,\n",
       " 0.859000027179718,\n",
       " 0.8600000143051147,\n",
       " 0.8604285717010498,\n",
       " 0.8624285459518433,\n",
       " 0.8585714101791382,\n",
       " 0.8578571677207947,\n",
       " 0.8587142825126648,\n",
       " 0.8604285717010498,\n",
       " 0.8605714440345764,\n",
       " 0.8594285845756531,\n",
       " 0.8610000014305115,\n",
       " 0.8619999885559082,\n",
       " 0.8605714440345764,\n",
       " 0.8588571548461914,\n",
       " 0.8594285845756531,\n",
       " 0.8618571162223816,\n",
       " 0.8615714311599731,\n",
       " 0.8598571419715881,\n",
       " 0.8612856864929199,\n",
       " 0.8635714054107666,\n",
       " 0.8597142696380615,\n",
       " 0.8598571419715881,\n",
       " 0.8608571290969849,\n",
       " 0.8604285717010498,\n",
       " 0.8612856864929199,\n",
       " 0.8607142567634583,\n",
       " 0.8634285926818848,\n",
       " 0.8628571629524231,\n",
       " 0.8612856864929199,\n",
       " 0.8602856993675232,\n",
       " 0.8611428737640381,\n",
       " 0.8597142696380615,\n",
       " 0.8607142567634583,\n",
       " 0.8598571419715881,\n",
       " 0.8618571162223816,\n",
       " 0.8619999885559082,\n",
       " 0.8598571419715881,\n",
       " 0.8640000224113464,\n",
       " 0.8612856864929199,\n",
       " 0.8610000014305115,\n",
       " 0.8610000014305115,\n",
       " 0.8611428737640381,\n",
       " 0.8607142567634583,\n",
       " 0.8627142906188965]"
      ]
     },
     "execution_count": 62,
     "metadata": {},
     "output_type": "execute_result"
    }
   ],
   "source": [
    "accuracy = results.history['accuracy']\n",
    "accuracy"
   ]
  },
  {
   "cell_type": "markdown",
   "metadata": {},
   "source": [
    "# Plotting intermediate accuracies"
   ]
  },
  {
   "cell_type": "code",
   "execution_count": 65,
   "metadata": {},
   "outputs": [
    {
     "data": {
      "text/plain": [
       "Text(0, 0.5, 'Accuracy')"
      ]
     },
     "execution_count": 65,
     "metadata": {},
     "output_type": "execute_result"
    },
    {
     "data": {
      "image/png": "[encoded data removed]",
      "text/plain": [
       "<Figure size 432x288 with 1 Axes>"
      ]
     },
     "metadata": {
      "needs_background": "light"
     },
     "output_type": "display_data"
    }
   ],
   "source": [
    "plt.plot(accuracy)\n",
    "plt.xlabel('Number of epochs')\n",
    "plt.ylabel('Accuracy')"
   ]
  },
  {
   "cell_type": "markdown",
   "metadata": {},
   "source": [
    "# Plotting intermediate loss"
   ]
  },
  {
   "cell_type": "code",
   "execution_count": 66,
   "metadata": {},
   "outputs": [
    {
     "data": {
      "text/plain": [
       "[0.488867849111557,\n",
       " 0.42723679542541504,\n",
       " 0.4202095568180084,\n",
       " 0.41482406854629517,\n",
       " 0.4102250337600708,\n",
       " 0.40708619356155396,\n",
       " 0.40487223863601685,\n",
       " 0.4023587703704834,\n",
       " 0.4020029902458191,\n",
       " 0.3998674750328064,\n",
       " 0.3994068503379822,\n",
       " 0.3985130190849304,\n",
       " 0.3978959619998932,\n",
       " 0.3964257836341858,\n",
       " 0.3968338668346405,\n",
       " 0.39680352807044983,\n",
       " 0.39654433727264404,\n",
       " 0.3952590227127075,\n",
       " 0.39539846777915955,\n",
       " 0.3954828083515167,\n",
       " 0.394663542509079,\n",
       " 0.394762247800827,\n",
       " 0.39373496174812317,\n",
       " 0.39280834794044495,\n",
       " 0.39226818084716797,\n",
       " 0.39171192049980164,\n",
       " 0.3895159363746643,\n",
       " 0.3874472975730896,\n",
       " 0.3853490650653839,\n",
       " 0.3830147087574005,\n",
       " 0.37882938981056213,\n",
       " 0.37623727321624756,\n",
       " 0.37137579917907715,\n",
       " 0.36715608835220337,\n",
       " 0.3633182644844055,\n",
       " 0.36221686005592346,\n",
       " 0.35889118909835815,\n",
       " 0.35698503255844116,\n",
       " 0.35650360584259033,\n",
       " 0.3554592430591583,\n",
       " 0.35306355357170105,\n",
       " 0.35277995467185974,\n",
       " 0.3519447147846222,\n",
       " 0.3506627380847931,\n",
       " 0.3513663113117218,\n",
       " 0.35088828206062317,\n",
       " 0.3504351079463959,\n",
       " 0.3487091660499573,\n",
       " 0.349031537771225,\n",
       " 0.34770455956459045,\n",
       " 0.3470516502857208,\n",
       " 0.3484271168708801,\n",
       " 0.3469865024089813,\n",
       " 0.34627100825309753,\n",
       " 0.3468106985092163,\n",
       " 0.346122145652771,\n",
       " 0.34580567479133606,\n",
       " 0.3451223075389862,\n",
       " 0.34646496176719666,\n",
       " 0.34452158212661743,\n",
       " 0.34519845247268677,\n",
       " 0.3447865843772888,\n",
       " 0.3447248935699463,\n",
       " 0.34420809149742126,\n",
       " 0.34392720460891724,\n",
       " 0.3441595137119293,\n",
       " 0.3441711664199829,\n",
       " 0.34436818957328796,\n",
       " 0.34290608763694763,\n",
       " 0.34428131580352783,\n",
       " 0.3431061804294586,\n",
       " 0.34309741854667664,\n",
       " 0.3432025611400604,\n",
       " 0.3429076671600342,\n",
       " 0.34289422631263733,\n",
       " 0.34229975938796997,\n",
       " 0.3432551622390747,\n",
       " 0.34245210886001587,\n",
       " 0.3416103422641754,\n",
       " 0.34189820289611816,\n",
       " 0.34349125623703003,\n",
       " 0.3427719175815582,\n",
       " 0.34150052070617676,\n",
       " 0.34147247672080994,\n",
       " 0.3435056209564209,\n",
       " 0.3423205316066742,\n",
       " 0.34183600544929504,\n",
       " 0.34195947647094727,\n",
       " 0.34262117743492126,\n",
       " 0.34215471148490906,\n",
       " 0.34208542108535767,\n",
       " 0.34186631441116333,\n",
       " 0.3421325385570526,\n",
       " 0.3415120244026184,\n",
       " 0.34124556183815,\n",
       " 0.34091198444366455,\n",
       " 0.3417229652404785,\n",
       " 0.34162670373916626,\n",
       " 0.34063562750816345,\n",
       " 0.3419298231601715]"
      ]
     },
     "execution_count": 66,
     "metadata": {},
     "output_type": "execute_result"
    }
   ],
   "source": [
    "loss = results.history['loss']\n",
    "loss"
   ]
  },
  {
   "cell_type": "code",
   "execution_count": 67,
   "metadata": {},
   "outputs": [
    {
     "data": {
      "text/plain": [
       "Text(0, 0.5, 'Loss')"
      ]
     },
     "execution_count": 67,
     "metadata": {},
     "output_type": "execute_result"
    },
    {
     "data": {
      "image/png": "[encoded data removed]",
      "text/plain": [
       "<Figure size 432x288 with 1 Axes>"
      ]
     },
     "metadata": {
      "needs_background": "light"
     },
     "output_type": "display_data"
    }
   ],
   "source": [
    "plt.plot(loss)\n",
    "plt.xlabel('Number of epochs')\n",
    "plt.ylabel('Loss')"
   ]
  },
  {
   "cell_type": "markdown",
   "metadata": {},
   "source": [
    "# Predicting on the test set"
   ]
  },
  {
   "cell_type": "code",
   "execution_count": 68,
   "metadata": {},
   "outputs": [
    {
     "data": {
      "text/plain": [
       "array([[0.35561886],\n",
       "       [0.48854688],\n",
       "       [0.22679888],\n",
       "       ...,\n",
       "       [0.07534881],\n",
       "       [0.01109347],\n",
       "       [0.7532825 ]], dtype=float32)"
      ]
     },
     "execution_count": 68,
     "metadata": {},
     "output_type": "execute_result"
    }
   ],
   "source": [
    "y_pred = classifier.predict(X_test)\n",
    "y_pred"
   ]
  },
  {
   "cell_type": "code",
   "execution_count": 69,
   "metadata": {},
   "outputs": [
    {
     "data": {
      "text/plain": [
       "array([[False],\n",
       "       [False],\n",
       "       [False],\n",
       "       ...,\n",
       "       [False],\n",
       "       [False],\n",
       "       [ True]])"
      ]
     },
     "execution_count": 69,
     "metadata": {},
     "output_type": "execute_result"
    }
   ],
   "source": [
    "y_pred = (y_pred > 0.5)\n",
    "y_pred"
   ]
  },
  {
   "cell_type": "markdown",
   "metadata": {},
   "source": [
    "# Creating Confusion matrix "
   ]
  },
  {
   "cell_type": "code",
   "execution_count": 70,
   "metadata": {
    "collapsed": true
   },
   "outputs": [],
   "source": [
    "from sklearn.metrics import confusion_matrix\n",
    "cm = confusion_matrix(y_test, y_pred)"
   ]
  },
  {
   "cell_type": "code",
   "execution_count": 71,
   "metadata": {},
   "outputs": [
    {
     "data": {
      "text/plain": [
       "array([[2208,  171],\n",
       "       [ 275,  346]], dtype=int64)"
      ]
     },
     "execution_count": 71,
     "metadata": {},
     "output_type": "execute_result"
    }
   ],
   "source": [
    "cm"
   ]
  },
  {
   "cell_type": "markdown",
   "metadata": {},
   "source": [
    "# Performance Parameters "
   ]
  },
  {
   "cell_type": "code",
   "execution_count": 72,
   "metadata": {},
   "outputs": [
    {
     "name": "stdout",
     "output_type": "stream",
     "text": [
      "Accuracy:  0.8513333333333334\n"
     ]
    }
   ],
   "source": [
    "accuracy = (cm[0,0]+cm[1,1])/(cm[0,0] + cm[0,1] + cm[1,0] + cm[1,1])\n",
    "print(\"Accuracy: \",accuracy)"
   ]
  },
  {
   "cell_type": "code",
   "execution_count": 73,
   "metadata": {},
   "outputs": [
    {
     "name": "stdout",
     "output_type": "stream",
     "text": [
      "Senstivity:  0.5571658615136876\n"
     ]
    }
   ],
   "source": [
    "senstivity = cm[1,1]/(cm[1,1]+cm[1,0])\n",
    "print(\"Senstivity: \",senstivity)"
   ]
  },
  {
   "cell_type": "code",
   "execution_count": 74,
   "metadata": {},
   "outputs": [
    {
     "name": "stdout",
     "output_type": "stream",
     "text": [
      "Specificity:  0.9281210592686002\n"
     ]
    }
   ],
   "source": [
    "specificity = cm[0,0]/(cm[0,1]+cm[0,0])\n",
    "print(\"Specificity: \",specificity)"
   ]
  },
  {
   "cell_type": "code",
   "execution_count": 75,
   "metadata": {},
   "outputs": [
    {
     "name": "stdout",
     "output_type": "stream",
     "text": [
      "Precision:  0.6692456479690522\n"
     ]
    }
   ],
   "source": [
    "precision = cm[1,1]/(cm[1,1]+cm[0,1])\n",
    "print(\"Precision: \",precision)"
   ]
  },
  {
   "cell_type": "code",
   "execution_count": 76,
   "metadata": {},
   "outputs": [
    {
     "name": "stdout",
     "output_type": "stream",
     "text": [
      "F1 score:  0.6080843585237259\n"
     ]
    }
   ],
   "source": [
    "F1score = 2*((precision*senstivity)/(precision+senstivity))\n",
    "print(\"F1 score: \", F1score)"
   ]
  },
  {
   "cell_type": "markdown",
   "metadata": {},
   "source": [
    "# Thank You"
   ]
  }
 ],
 "metadata": {
  "kernelspec": {
   "display_name": "Python 3",
   "language": "python",
   "name": "python3"
  },
  "language_info": {
   "codemirror_mode": {
    "name": "ipython",
    "version": 3
   },
   "file_extension": ".py",
   "mimetype": "text/x-python",
   "name": "python",
   "nbconvert_exporter": "python",
   "pygments_lexer": "ipython3",
   "version": "3.6.13"
  }
 },
 "nbformat": 4,
 "nbformat_minor": 4
}
